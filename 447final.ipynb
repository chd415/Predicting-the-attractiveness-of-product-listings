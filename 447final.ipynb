{
 "cells": [
  {
   "cell_type": "code",
   "execution_count": 6,
   "metadata": {},
   "outputs": [],
   "source": [
    "import pandas as pd\n",
    "import numpy as np\n",
    "import matplotlib.pyplot as plt\n",
    "import seaborn as sns\n",
    "sns.set(color_codes=True)\n",
    "\n",
    "%matplotlib inline"
   ]
  },
  {
   "cell_type": "code",
   "execution_count": 22,
   "metadata": {},
   "outputs": [
    {
     "name": "stdout",
     "output_type": "stream",
     "text": [
      "<class 'pandas.core.frame.DataFrame'>\n",
      "Int64Index: 18141 entries, 1 to 18141\n",
      "Data columns (total 7 columns):\n",
      "name          18141 non-null object\n",
      "lvl1          18141 non-null object\n",
      "lvl2          18141 non-null object\n",
      "lvl3          17053 non-null object\n",
      "descrption    18121 non-null object\n",
      "price         18141 non-null float64\n",
      "type          17999 non-null object\n",
      "dtypes: float64(1), object(6)\n",
      "memory usage: 1.1+ MB\n"
     ]
    }
   ],
   "source": [
    "# load training data text\n",
    "train_file = pd.read_csv('train_data.csv',delimiter=',', header=0)\n",
    "train_file.columns = ['id', 'name','lvl1','lvl2','lvl3','descrption','price','type']\n",
    "train_file.set_index('id', inplace = True)\n",
    "train_file.info()"
   ]
  },
  {
   "cell_type": "code",
   "execution_count": 20,
   "metadata": {},
   "outputs": [
    {
     "data": {
      "text/plain": [
       "id\n",
       "1                              Health & Beauty\n",
       "2                          Computers & Laptops\n",
       "3                            Mobiles & Tablets\n",
       "4                            Mobiles & Tablets\n",
       "5                            Mobiles & Tablets\n",
       "6                                      Cameras\n",
       "7                          Computers & Laptops\n",
       "8                                      Fashion\n",
       "9                                Home & Living\n",
       "10                               Home & Living\n",
       "11                Watches Sunglasses Jewellery\n",
       "12                               Home & Living\n",
       "13                               Home & Living\n",
       "14                Watches Sunglasses Jewellery\n",
       "15                             Health & Beauty\n",
       "16                               Home & Living\n",
       "17                Watches Sunglasses Jewellery\n",
       "18                             Home Appliances\n",
       "19                             Health & Beauty\n",
       "20                             Health & Beauty\n",
       "21                             Home Appliances\n",
       "22                Watches Sunglasses Jewellery\n",
       "23                             Health & Beauty\n",
       "24                Watches Sunglasses Jewellery\n",
       "25                             Home Appliances\n",
       "26                         Computers & Laptops\n",
       "27                           Mobiles & Tablets\n",
       "28                             Home Appliances\n",
       "29                         Computers & Laptops\n",
       "30                Watches Sunglasses Jewellery\n",
       "                         ...                  \n",
       "18112                                  Fashion\n",
       "18113                            Home & Living\n",
       "18114    TV, Audio / Video, Gaming & Wearables\n",
       "18115    TV, Audio / Video, Gaming & Wearables\n",
       "18116    TV, Audio / Video, Gaming & Wearables\n",
       "18117                      Computers & Laptops\n",
       "18118                                  Cameras\n",
       "18119                            Home & Living\n",
       "18120    TV, Audio / Video, Gaming & Wearables\n",
       "18121                                  Cameras\n",
       "18122                        Mobiles & Tablets\n",
       "18123                                  Fashion\n",
       "18124                            Home & Living\n",
       "18125             Watches Sunglasses Jewellery\n",
       "18126    TV, Audio / Video, Gaming & Wearables\n",
       "18127                                  Fashion\n",
       "18128                      Computers & Laptops\n",
       "18129             Watches Sunglasses Jewellery\n",
       "18130                                  Cameras\n",
       "18131                        Mobiles & Tablets\n",
       "18132                        Mobiles & Tablets\n",
       "18133                          Home Appliances\n",
       "18134                          Health & Beauty\n",
       "18135                                  Fashion\n",
       "18136             Watches Sunglasses Jewellery\n",
       "18137                        Mobiles & Tablets\n",
       "18138             Watches Sunglasses Jewellery\n",
       "18139                        Mobiles & Tablets\n",
       "18140                                  Fashion\n",
       "18141                                  Fashion\n",
       "Name: lvl1, Length: 18141, dtype: object"
      ]
     },
     "execution_count": 20,
     "metadata": {},
     "output_type": "execute_result"
    }
   ],
   "source": [
    "#clean up data\n",
    "train_file['lvl1'].str.lower()\n",
    "train_file['lvl1'].str.strip()"
   ]
  },
  {
   "cell_type": "code",
   "execution_count": null,
   "metadata": {},
   "outputs": [],
   "source": []
  }
 ],
 "metadata": {
  "kernelspec": {
   "display_name": "Python 2",
   "language": "python",
   "name": "python2"
  },
  "language_info": {
   "codemirror_mode": {
    "name": "ipython",
    "version": 2
   },
   "file_extension": ".py",
   "mimetype": "text/x-python",
   "name": "python",
   "nbconvert_exporter": "python",
   "pygments_lexer": "ipython2",
   "version": "2.7.14"
  }
 },
 "nbformat": 4,
 "nbformat_minor": 2
}
