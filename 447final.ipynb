{
 "cells": [
  {
   "cell_type": "code",
   "execution_count": 1,
   "metadata": {
    "collapsed": false,
    "deletable": true,
    "editable": true
   },
   "outputs": [
    {
     "name": "stdout",
     "output_type": "stream",
     "text": [
      "[nltk_data] Downloading package stopwords to\n",
      "[nltk_data]     /Users/chd415/nltk_data...\n",
      "[nltk_data]   Package stopwords is already up-to-date!\n"
     ]
    }
   ],
   "source": [
    "import pandas as pd\n",
    "import numpy as np\n",
    "import matplotlib.pyplot as plt\n",
    "import seaborn as sns\n",
    "import re\n",
    "import sys\n",
    "from html.parser import HTMLParser\n",
    "from html.entities import name2codepoint\n",
    "sns.set(color_codes=True)\n",
    "import warnings\n",
    "warnings.filterwarnings(\"ignore\")                   \n",
    "import nltk                                         \n",
    "nltk.download('stopwords')\n",
    "from nltk.corpus import stopwords                   \n",
    "from nltk.stem import PorterStemmer  \n",
    "LA = np.linalg\n",
    "\n",
    "from sklearn.feature_extraction.text import CountVectorizer          \n",
    "from sklearn.feature_extraction.text import TfidfVectorizer   \n",
    "from sklearn.feature_extraction.text import HashingVectorizer\n",
    "from scipy.sparse import csr_matrix\n",
    "from sklearn import preprocessing\n",
    "from sklearn.preprocessing import LabelEncoder\n",
    "from sklearn.preprocessing import StandardScaler\n",
    "from sklearn.preprocessing import KBinsDiscretizer\n",
    "from sklearn.preprocessing import Normalizer\n",
    "from sklearn.pipeline import Pipeline\n",
    "from sklearn.decomposition import PCA\n",
    "from sklearn.decomposition import TruncatedSVD\n",
    "from collections import defaultdict\n",
    "#from gensim.models.word2vec import Word2Vec  \n",
    "import spacy\n",
    "from spacy.lang.en.examples import sentences\n",
    "\n",
    "import re\n",
    "\n",
    "%matplotlib inline"
   ]
  },
  {
   "cell_type": "code",
   "execution_count": 2,
   "metadata": {
    "collapsed": true,
    "deletable": true,
    "editable": true
   },
   "outputs": [],
   "source": [
    "# load training data text\n",
    "def load_data(filename):\n",
    "    load_file = pd.read_csv(filename,delimiter=',', header=0,\n",
    "                        dtype={'name':str, 'lvl1':str, 'lvl2':str, 'lvl3':str, 'descrption':str, 'type':str})\n",
    "    load_file.columns = ['id', 'name','lvl1','lvl2','lvl3','descrption','price','type']\n",
    "    load_file.duplicated(subset=None, keep='first')\n",
    "    load_file.set_index('id', inplace = True)\n",
    "    load_file.head()\n",
    "    return load_file\n",
    "#print(len(train_file))\n",
    "def load_label(filename):\n",
    "    load_label = pd.read_csv(filename,delimiter=',', header=0)\n",
    "    load_label.columns = ['id', 'score']\n",
    "    load_label.duplicated(subset=None, keep='first')\n",
    "    load_label.set_index('id', inplace = True)\n",
    "    return load_label"
   ]
  },
  {
   "cell_type": "code",
   "execution_count": 3,
   "metadata": {
    "collapsed": true,
    "deletable": true,
    "editable": true
   },
   "outputs": [],
   "source": [
    "class MultiColumnLabelEncoder:\n",
    "    def __init__(self,columns = None):\n",
    "        self.columns = columns # array of column names to encode\n",
    "\n",
    "    def fit(self,X,y=None):\n",
    "        return self # not relevant here\n",
    "\n",
    "    def transform(self,X):\n",
    "\n",
    "        output = X.copy()\n",
    "        if self.columns is not None:\n",
    "            for col in self.columns:\n",
    "                output[col] = LabelEncoder().fit_transform(output[col])\n",
    "        else:\n",
    "            for colname,col in output.iteritems():\n",
    "                output[colname] = LabelEncoder().fit_transform(col)\n",
    "        return output\n",
    "\n",
    "    def fit_transform(self,X,y=None):\n",
    "        return self.fit(X,y).transform(X)\n"
   ]
  },
  {
   "cell_type": "code",
   "execution_count": null,
   "metadata": {
    "collapsed": true,
    "deletable": true,
    "editable": true
   },
   "outputs": [],
   "source": []
  },
  {
   "cell_type": "code",
   "execution_count": 4,
   "metadata": {
    "collapsed": true,
    "deletable": true,
    "editable": true
   },
   "outputs": [],
   "source": [
    "def clean_data(filename):\n",
    "    \n",
    "    filename['lvl1'] = filename['lvl1'].str.lower().replace('[^a-zA-Z]+',' ',regex=True)\n",
    "    filename['lvl2'] = filename['lvl2'].str.lower().replace('[^\\'\\w]+',' ',regex=True)\n",
    "    filename['lvl3'] = filename['lvl3'].str.lower().replace('[^\\'\\w]+',' ',regex=True)\n",
    "    filename['descrption'] = filename['descrption'].str.lower()\n",
    "    filename['name'] = filename['name'].str.lower()\n",
    "\n",
    "    #clean up data for lvl 1&2&3 and type\n",
    "    temp =  filename.drop(['price', 'descrption','name'], axis=1)\n",
    "    outfile = MultiColumnLabelEncoder(columns = ['lvl1','lvl2','lvl3','type']).fit_transform(temp.astype(str))\n",
    "    \n",
    "    #one-hot encoder\n",
    "    enc = preprocessing.OneHotEncoder()\n",
    "    enc.fit(outfile)\n",
    "    outfile = enc.transform(outfile).toarray()\n",
    "\n",
    "    #bin price\n",
    "    valuethred = 5000.\n",
    "    clipped_price = filename['price'].clip(lower=0.,upper=valuethred)\n",
    "    price_kbin = clipped_price.as_matrix(columns=None).reshape(-1, 1)\n",
    "    kbinest = KBinsDiscretizer(n_bins=20, encode='onehot-dense')\n",
    "    kbinout = kbinest.fit_transform(price_kbin)\n",
    "    outfile = np.column_stack((outfile,kbinout))\n",
    "\n",
    "    #normalize price\n",
    "    valuethred = 5000.\n",
    "    clipped2norm = filename['price'].clip(lower=0.,upper=valuethred)\n",
    "    price_X = clipped2norm.as_matrix(columns=None).reshape(-1, 1)\n",
    "    transformer = Normalizer(copy=True,norm='l2')\n",
    "    ld = transformer.fit_transform(price_X)\n",
    "    outfile = np.column_stack((outfile,ld))  \n",
    "\n",
    "    #clean up text\n",
    "    description_X = filename.descrption.str.lower().replace('<li>','final ',regex=True).replace('<.*?>','',\n",
    "                                                                    regex=True).replace('[^\\w\\s]+',' ',regex=True)\n",
    "    count_descrption = description_X.str.count('final').fillna(0).tolist()\n",
    "    outfile = np.column_stack((outfile,count_descrption))\n",
    "    \n",
    "    description_X = description_X.str.lower().replace('final ','',regex=True).replace('\\d+', '',regex=True)\n",
    "    descrption_Xstring = pd.Series(description_X.tolist()).astype(str)\n",
    "    count_wordcount = descrption_Xstring.apply(lambda x: len(x.split(' ')))\n",
    "    count_lettercount = descrption_Xstring.apply(lambda x: len(x))\n",
    "    outfile = np.column_stack((outfile,count_wordcount))\n",
    "    outfile = np.column_stack((outfile,count_lettercount))\n",
    "\n",
    "    clg_g = spacy.load('en_core_web_lg')\n",
    "    descrption_clg = []\n",
    "    for i in range(len(descrption_Xstring)):\n",
    "        doc = clg_g(descrption_Xstring[i])\n",
    "        descrption_clg.append(doc.vector)\n",
    "    lg = np.vstack(descrption_clg)\n",
    "    \n",
    "    \n",
    "    name_X = filename.name.str.lower().replace('<.*?>','',regex=True).replace('[^\\w\\s]+',' ',\n",
    "                                                                        regex=True).replace('\\d+', '',regex=True)\n",
    "    name_Xstring = pd.Series(name_X.tolist()).astype(str)\n",
    "    name_wordcount = name_Xstring.apply(lambda x: len(x.split(' ')))\n",
    "    name_lettercount = name_Xstring.apply(lambda x: len(x))\n",
    "    outfile = np.column_stack((outfile,name_wordcount))\n",
    "    outfile = np.column_stack((outfile,name_lettercount))\n",
    "    \n",
    "    clg_f = spacy.load('en_core_web_lg')\n",
    "    name_clg = []\n",
    "    for i in range(len(name_Xstring)):\n",
    "        doc = clg_f(name_Xstring[i])\n",
    "        name_clg.append(doc.vector)\n",
    "    lf = np.vstack(name_clg)\n",
    "\n",
    "    #svd\n",
    "    svd_n = TruncatedSVD(n_components=30,algorithm='arpack')\n",
    "    new_lg = svd_n.fit_transform(lg.astype('f'))\n",
    "    svd_f = TruncatedSVD(n_components=15,algorithm='arpack')\n",
    "    new_lf = svd_n.fit_transform(lf.astype('f'))\n",
    "    \n",
    "    outfile = np.column_stack((outfile,new_lg))\n",
    "    outfile = np.column_stack((outfile,new_lf))\n",
    "    \n",
    "    return outfile"
   ]
  },
  {
   "cell_type": "code",
   "execution_count": null,
   "metadata": {
    "collapsed": true,
    "deletable": true,
    "editable": true
   },
   "outputs": [],
   "source": []
  },
  {
   "cell_type": "code",
   "execution_count": 5,
   "metadata": {
    "collapsed": false,
    "deletable": true,
    "editable": true
   },
   "outputs": [
    {
     "data": {
      "text/plain": [
       "(36283, 340)"
      ]
     },
     "execution_count": 5,
     "metadata": {},
     "output_type": "execute_result"
    }
   ],
   "source": [
    "train_file = load_data('train_data.csv')\n",
    "test_file = load_data('test_data.csv')\n",
    "combined_file = pd.concat([train_file,test_file])\n",
    "cleaned_train = clean_data(combined_file)\n",
    "train_score = load_label('train_label.csv')\n",
    "np.shape(cleaned_train)"
   ]
  },
  {
   "cell_type": "code",
   "execution_count": null,
   "metadata": {
    "collapsed": true,
    "deletable": true,
    "editable": true
   },
   "outputs": [],
   "source": []
  },
  {
   "cell_type": "code",
   "execution_count": 6,
   "metadata": {
    "collapsed": false,
    "deletable": true,
    "editable": true
   },
   "outputs": [
    {
     "data": {
      "text/plain": [
       "array([[ 0.        ,  0.        ,  0.        , ...,  0.34309661,\n",
       "         0.17233208,  0.45813119],\n",
       "       [ 0.        ,  1.        ,  0.        , ..., -0.04276813,\n",
       "         0.20824412, -0.23762988],\n",
       "       [ 0.        ,  0.        ,  0.        , ..., -0.16593644,\n",
       "        -0.04395773,  0.114619  ],\n",
       "       ...,\n",
       "       [ 0.        ,  0.        ,  0.        , ..., -0.14239173,\n",
       "        -0.00520656, -0.13928017],\n",
       "       [ 0.        ,  0.        ,  0.        , ..., -0.04370552,\n",
       "         0.08029149, -0.26857373],\n",
       "       [ 0.        ,  0.        ,  0.        , ...,  0.10217056,\n",
       "        -0.12637366,  0.1478506 ]])"
      ]
     },
     "execution_count": 6,
     "metadata": {},
     "output_type": "execute_result"
    }
   ],
   "source": [
    "cleaned_train"
   ]
  },
  {
   "cell_type": "code",
   "execution_count": null,
   "metadata": {
    "collapsed": true,
    "deletable": true,
    "editable": true
   },
   "outputs": [],
   "source": []
  },
  {
   "cell_type": "code",
   "execution_count": 7,
   "metadata": {
    "collapsed": false,
    "deletable": true,
    "editable": true
   },
   "outputs": [
    {
     "name": "stdout",
     "output_type": "stream",
     "text": [
      "(36283, 340)\n"
     ]
    },
    {
     "data": {
      "text/plain": [
       "340"
      ]
     },
     "execution_count": 7,
     "metadata": {},
     "output_type": "execute_result"
    }
   ],
   "source": [
    "X = cleaned_train\n",
    "w,b = np.shape(np.array(X))\n",
    "print(np.shape(np.array(X)))\n",
    "Y = train_score.score.as_matrix(columns=None).tolist()\n",
    "b"
   ]
  },
  {
   "cell_type": "code",
   "execution_count": null,
   "metadata": {
    "collapsed": true,
    "deletable": true,
    "editable": true
   },
   "outputs": [],
   "source": []
  },
  {
   "cell_type": "code",
   "execution_count": 8,
   "metadata": {
    "collapsed": false,
    "deletable": true,
    "editable": true
   },
   "outputs": [
    {
     "name": "stdout",
     "output_type": "stream",
     "text": [
      "18141\n",
      "(18141, 340)\n",
      "(18142, 340)\n"
     ]
    }
   ],
   "source": [
    "X = cleaned_train[:18141]\n",
    "XX = cleaned_train[18141:]\n",
    "Y = train_score.score.as_matrix(columns=None).tolist()\n",
    "print(np.size(Y))\n",
    "print(np.shape(X))\n",
    "print(np.shape(XX))\n"
   ]
  },
  {
   "cell_type": "code",
   "execution_count": 9,
   "metadata": {
    "collapsed": false,
    "deletable": true,
    "editable": true
   },
   "outputs": [
    {
     "name": "stdout",
     "output_type": "stream",
     "text": [
      "340\n"
     ]
    }
   ],
   "source": [
    "from sklearn.utils import shuffle\n",
    "X, Y = shuffle(X, Y)\n",
    "from sklearn.model_selection import train_test_split\n",
    "X_train, X_validation, y_train, y_validation = train_test_split(X, Y, test_size=0.20, random_state=0)\n",
    "\n",
    "print(X_train[1400].size)"
   ]
  },
  {
   "cell_type": "code",
   "execution_count": 10,
   "metadata": {
    "collapsed": true,
    "deletable": true,
    "editable": true
   },
   "outputs": [],
   "source": [
    "import os\n",
    "import time\n",
    "from sklearn import metrics\n",
    "from sklearn import preprocessing\n",
    "import numpy as np\n",
    "import pandas as pd\n",
    "import random\n",
    "import math\n",
    "import warnings\n",
    "warnings.filterwarnings(\"ignore\")\n",
    "\n",
    "from matplotlib import pyplot as plt\n",
    "\n",
    "from sklearn import preprocessing\n",
    "from sklearn.ensemble import ExtraTreesClassifier\n",
    "from sklearn.feature_selection import SelectFromModel\n",
    "from sklearn.feature_selection import SelectPercentile\n",
    "from sklearn.feature_selection import chi2\n",
    "\n",
    "from sklearn import linear_model\n",
    "from sklearn.naive_bayes import MultinomialNB\n",
    "from sklearn.neighbors import KNeighborsClassifier\n",
    "from sklearn.linear_model import LogisticRegression\n",
    "from sklearn.ensemble import RandomForestClassifier\n",
    "from sklearn.ensemble import RandomForestRegressor\n",
    "from sklearn import tree\n",
    "from sklearn.tree import DecisionTreeRegressor \n",
    "from sklearn.ensemble import GradientBoostingClassifier\n",
    "from sklearn.svm import SVC\n",
    "from sklearn.model_selection import GridSearchCV\n",
    "from sklearn.ensemble import GradientBoostingClassifier\n",
    "\n",
    "from sklearn.ensemble import BaggingClassifier  \n",
    "from sklearn.model_selection import cross_val_score"
   ]
  },
  {
   "cell_type": "code",
   "execution_count": 11,
   "metadata": {
    "collapsed": true,
    "deletable": true,
    "editable": true
   },
   "outputs": [],
   "source": [
    "# Linear Regression Classifier\n",
    "def linear_regression_classifier(train_x, train_y):\n",
    "    model = linear_model.LinearRegression()\n",
    "    model.fit(train_x, train_y)\n",
    "    return model\n",
    " \n",
    "# Multinomial Naive Bayes Classifier\n",
    "def naive_bayes_classifier(train_x, train_y):\n",
    "    model = MultinomialNB()\n",
    "\n",
    "    param_grid = {'alpha': [math.pow(10,-i) for i in range(11)]}\n",
    "    grid_search = GridSearchCV(model, param_grid, n_jobs = 1, verbose=1)\n",
    "    grid_search.fit(train_x, train_y)\n",
    "    best_parameters = grid_search.best_estimator_.get_params()\n",
    "    \n",
    "    model = MultinomialNB(alpha = best_parameters['alpha'])  \n",
    "    model.fit(train_x, train_y)\n",
    "    return model\n",
    " \n",
    "# KNN Classifier\n",
    "def knn_classifier(train_x, train_y):\n",
    "    model = KNeighborsClassifier()\n",
    "\n",
    "    param_grid = {'n_neighbors': list(range(1,21))}\n",
    "    grid_search = GridSearchCV(model, param_grid, n_jobs = 1, verbose=1)\n",
    "    grid_search.fit(train_x, train_y)\n",
    "    best_parameters = grid_search.best_estimator_.get_params()\n",
    "    \n",
    "    model = KNeighborsClassifier(n_neighbors = best_parameters['n_neighbors'], algorithm='kd_tree')\n",
    "\n",
    "    bagging = BaggingClassifier(model, max_samples=0.5, max_features=1 )\n",
    "    bagging.fit(train_x, train_y)\n",
    "    return bagging\n",
    " \n",
    "# Logistic Regression Classifier\n",
    "def logistic_regression_classifier(train_x, train_y):\n",
    "    model = LogisticRegression(penalty='l2')\n",
    "    model.fit(train_x, train_y)\n",
    "    return model\n",
    " \n",
    "# Random Forest Classifier\n",
    "def random_forest_classifier(train_x, train_y):\n",
    "    model = RandomForestClassifier()\n",
    "\n",
    "    param_grid = {'n_estimators': list(range(1,21))}\n",
    "    grid_search = GridSearchCV(model, param_grid, n_jobs = 1, verbose=1)\n",
    "    grid_search.fit(train_x, train_y)\n",
    "    best_parameters = grid_search.best_estimator_.get_params()\n",
    "    \n",
    "    model = RandomForestClassifier(n_estimators = best_parameters['n_estimators'])\n",
    "    \n",
    "    model.fit(train_x, train_y)\n",
    "    return model\n",
    "  \n",
    "# Decision Tree Classifier\n",
    "def decision_tree_classifier(train_x, train_y):\n",
    "    model = tree.DecisionTreeClassifier()\n",
    "    model.fit(train_x, train_y)\n",
    "\n",
    "    bagging = BaggingClassifier(model, max_samples=0.5, max_features=1 )\n",
    "    bagging.fit(train_x, train_y)\n",
    "    \n",
    "    return bagging\n",
    " \n",
    "# GBDT(Gradient Boosting Decision Tree) Classifier\n",
    "def gradient_boosting_classifier(train_x, train_y):\n",
    "    model = GradientBoostingClassifier()\n",
    "    \n",
    "    model = RandomForestClassifier()\n",
    "\n",
    "    param_grid = {'n_estimators': list(range(100,300,10))}\n",
    "    grid_search = GridSearchCV(model, param_grid, n_jobs = 1, verbose=1)\n",
    "    grid_search.fit(train_x, train_y)\n",
    "    best_parameters = grid_search.best_estimator_.get_params()\n",
    "    \n",
    "    model = RandomForestClassifier(n_estimators = best_parameters['n_estimators'])\n",
    "\n",
    "    model.fit(train_x, train_y)\n",
    "    return model\n",
    "\n",
    "# SVM Classifier\n",
    "def svm_classifier(train_x, train_y):\n",
    "    model = SVC(kernel='linear', probability=True)\n",
    "    model.fit(train_x, train_y)\n",
    "    return model\n",
    " \n",
    "# SVM Classifier using cross validation\n",
    "def svm_cross_validation(train_x, train_y):\n",
    "    model = SVC(kernel='linear', probability=True)\n",
    "    param_grid = {'C': [1e-3, 1e-2, 1e-1, 1, 10, 100, 1000], 'gamma': [0.001, 0.0001]}\n",
    "    grid_search = GridSearchCV(model, param_grid, n_jobs = 1, verbose=1)\n",
    "    grid_search.fit(train_x, train_y)\n",
    "    best_parameters = grid_search.best_estimator_.get_params()\n",
    "\n",
    "    model = SVC(kernel='rbf', C=best_parameters['C'], gamma=best_parameters['gamma'], probability=True)\n",
    "    model.fit(train_x, train_y)\n",
    "    return model\n",
    "\n",
    "def feature_select(x,y):\n",
    "    clf = ExtraTreesClassifier()\n",
    "    clf = clf.fit(x, y)\n",
    "    model = SelectFromModel(clf, prefit=True)\n",
    "    return model"
   ]
  },
  {
   "cell_type": "code",
   "execution_count": 12,
   "metadata": {
    "collapsed": false,
    "deletable": true,
    "editable": true
   },
   "outputs": [
    {
     "name": "stdout",
     "output_type": "stream",
     "text": [
      "reading training and testing data...\n",
      "******************* LR ********************\n",
      "training took 1.214134s!\n",
      "accuracy: 80.46%\n",
      "loss: 6.75\n",
      "******************* RF ********************\n",
      "Fitting 3 folds for each of 20 candidates, totalling 60 fits\n"
     ]
    },
    {
     "name": "stderr",
     "output_type": "stream",
     "text": [
      "[Parallel(n_jobs=1)]: Using backend SequentialBackend with 1 concurrent workers.\n",
      "[Parallel(n_jobs=1)]: Done  60 out of  60 | elapsed:   39.3s finished\n"
     ]
    },
    {
     "name": "stdout",
     "output_type": "stream",
     "text": [
      "training took 43.186757s!\n",
      "accuracy: 80.99%\n",
      "loss: 6.57\n",
      "******************* DT ********************\n",
      "training took 1.909744s!\n",
      "accuracy: 67.29%\n",
      "loss: 11.30\n"
     ]
    }
   ],
   "source": [
    "# just for my own record\n",
    "\n",
    "if __name__ == '__main__': \n",
    "    thresh = 0.5    \n",
    "    \n",
    "    test_classifiers = ['LR','RF','DT']    \n",
    "    classifiers = {\n",
    "                    'LR':logistic_regression_classifier,\n",
    "                    'RF':random_forest_classifier,\n",
    "                    'DT':decision_tree_classifier,\n",
    "    }\n",
    "       \n",
    "    print('reading training and testing data...')    \n",
    "\n",
    "    select_model = feature_select(X_train, y_train)\n",
    "    X_train = select_model.transform(X_train)\n",
    "    X_validation = select_model.transform(X_validation)\n",
    "\n",
    "    result = []\n",
    "       \n",
    "    for classifier in test_classifiers:    \n",
    "        print('******************* %s ********************' % classifier)    \n",
    "        start_time = time.time()    \n",
    "        model = classifiers[classifier](X_train, y_train)   \n",
    "        print('training took %fs!' % (time.time() - start_time))    \n",
    "        predict = model.predict(X_validation)\n",
    "\n",
    "        precision = metrics.precision_score(y_validation, predict)    \n",
    "        recall = metrics.recall_score(y_validation, predict)    \n",
    "        accuracy = metrics.accuracy_score(y_validation, predict)    \n",
    "        print('accuracy: %.2f%%' % (100 * accuracy))\n",
    "        logloss = metrics.log_loss(y_validation, predict)\n",
    "        print('loss: %.2f' % (logloss))\n",
    "\n",
    "        scores = cross_val_score(model, X_train, y_train)\n",
    "#        print(scores)"
   ]
  },
  {
   "cell_type": "code",
   "execution_count": 13,
   "metadata": {
    "collapsed": false,
    "deletable": true,
    "editable": true
   },
   "outputs": [
    {
     "data": {
      "text/plain": [
       "array([[ 0.        ,  0.        ,  0.        , ..., -0.08697326,\n",
       "        -0.18759921,  0.11283299],\n",
       "       [ 0.        ,  1.        ,  0.        , ...,  0.37877461,\n",
       "         0.35219729,  0.17430373],\n",
       "       [ 0.        ,  0.        ,  1.        , ..., -0.0323269 ,\n",
       "        -0.10206458,  0.20948608],\n",
       "       ...,\n",
       "       [ 0.        ,  0.        ,  1.        , ...,  0.09015514,\n",
       "         0.12230652,  0.12184646],\n",
       "       [ 0.        ,  0.        ,  1.        , ...,  0.07511818,\n",
       "         0.16912353,  0.06112052],\n",
       "       [ 0.        ,  0.        ,  1.        , ..., -0.0028989 ,\n",
       "        -0.36047363,  0.35635692]])"
      ]
     },
     "execution_count": 13,
     "metadata": {},
     "output_type": "execute_result"
    }
   ],
   "source": [
    "X_train\n",
    "#X_train, y_train = X,Y"
   ]
  },
  {
   "cell_type": "code",
   "execution_count": 14,
   "metadata": {
    "collapsed": true,
    "deletable": true,
    "editable": true
   },
   "outputs": [],
   "source": [
    "X_train = cleaned_train[:18141]\n",
    "X_test = cleaned_train[18141:]\n",
    "y_train = train_score.score.as_matrix(columns=None).tolist()"
   ]
  },
  {
   "cell_type": "code",
   "execution_count": 15,
   "metadata": {
    "collapsed": false,
    "deletable": true,
    "editable": true
   },
   "outputs": [
    {
     "name": "stdout",
     "output_type": "stream",
     "text": [
      "reading training and testing data...\n",
      "training took 2.251265s!\n",
      "predict finished\n",
      "Fitting 3 folds for each of 20 candidates, totalling 60 fits\n"
     ]
    },
    {
     "name": "stderr",
     "output_type": "stream",
     "text": [
      "[Parallel(n_jobs=1)]: Using backend SequentialBackend with 1 concurrent workers.\n",
      "[Parallel(n_jobs=1)]: Done  60 out of  60 | elapsed:   51.6s finished\n"
     ]
    },
    {
     "name": "stdout",
     "output_type": "stream",
     "text": [
      "training took 58.578194s!\n",
      "predict finished\n",
      "Fitting 3 folds for each of 20 candidates, totalling 60 fits\n"
     ]
    },
    {
     "name": "stderr",
     "output_type": "stream",
     "text": [
      "[Parallel(n_jobs=1)]: Using backend SequentialBackend with 1 concurrent workers.\n",
      "[Parallel(n_jobs=1)]: Done  60 out of  60 | elapsed: 84.1min finished\n"
     ]
    },
    {
     "name": "stdout",
     "output_type": "stream",
     "text": [
      "training took 5182.220682s!\n",
      "predict finished\n",
      "training took 5185.944616s!\n",
      "predict finished\n"
     ]
    }
   ],
   "source": [
    "if __name__ == '__main__': \n",
    "    thresh = 0.5    \n",
    "     \n",
    "    test_classifiers = ['LR','RF','GBC','DT']    \n",
    "    classifiers = {\n",
    "                   'LR':logistic_regression_classifier,\n",
    "                   'RF':random_forest_classifier,\n",
    "                   'GBC':gradient_boosting_classifier,\n",
    "                   'DT':decision_tree_classifier\n",
    "    }\n",
    "        \n",
    "    print('reading training and testing data...')    \n",
    "\n",
    "    select_model = feature_select(X_train, y_train)\n",
    "    X_train = select_model.transform(X_train)\n",
    "    X_test = select_model.transform(X_test)\n",
    "\n",
    "    result = []\n",
    "    \n",
    "    start_time = time.time()\n",
    "    modellr = classifiers['LR'](X_train, y_train)   \n",
    "    print('training took %fs!' % (time.time() - start_time))    \n",
    "    Y_predict_lr = modellr.predict_proba(X_test)[:,1]\n",
    "    print('predict finished')\n",
    "    \n",
    "    modelrf = classifiers['RF'](X_train, y_train)   \n",
    "    print('training took %fs!' % (time.time() - start_time))\n",
    "    regr = RandomForestRegressor(max_depth=2, max_features=1)\n",
    "    regr.fit(X_train, y_train)\n",
    "    Y_predict_rf = regr.predict(X_test)\n",
    "    print('predict finished')\n",
    "    \n",
    "    modelgbc = classifiers['GBC'](X_train, y_train)   \n",
    "    print('training took %fs!' % (time.time() - start_time))    \n",
    "    Y_predict_gbc = modelgbc.predict_proba(X_test)[:,1]\n",
    "    print('predict finished')\n",
    "    \n",
    "    modeldt = classifiers['DT'](X_train, y_train)  \n",
    "    print('training took %fs!' % (time.time() - start_time))\n",
    "    regressor = DecisionTreeRegressor(max_depth=2) \n",
    "    regressor.fit(X_train, y_train)\n",
    "    Y_predict_dt = regressor.predict(X_test)\n",
    "    print('predict finished')\n"
   ]
  },
  {
   "cell_type": "code",
   "execution_count": null,
   "metadata": {
    "collapsed": true,
    "deletable": true,
    "editable": true
   },
   "outputs": [],
   "source": []
  },
  {
   "cell_type": "code",
   "execution_count": 32,
   "metadata": {
    "collapsed": false,
    "deletable": true,
    "editable": true
   },
   "outputs": [
    {
     "name": "stdout",
     "output_type": "stream",
     "text": [
      "Epoch 1/20\n",
      "18141/18141 [==============================] - 1s 52us/step - loss: 0.6375 - acc: 0.7027\n",
      "Epoch 2/20\n",
      "18141/18141 [==============================] - 0s 23us/step - loss: 0.4572 - acc: 0.7891\n",
      "Epoch 3/20\n",
      "18141/18141 [==============================] - 0s 25us/step - loss: 0.4460 - acc: 0.7991\n",
      "Epoch 4/20\n",
      "18141/18141 [==============================] - 0s 25us/step - loss: 0.4367 - acc: 0.8048\n",
      "Epoch 5/20\n",
      "18141/18141 [==============================] - 0s 24us/step - loss: 0.4247 - acc: 0.8101\n",
      "Epoch 6/20\n",
      "18141/18141 [==============================] - 0s 25us/step - loss: 0.4215 - acc: 0.8120\n",
      "Epoch 7/20\n",
      "18141/18141 [==============================] - 1s 28us/step - loss: 0.4138 - acc: 0.8155\n",
      "Epoch 8/20\n",
      "18141/18141 [==============================] - 0s 27us/step - loss: 0.4168 - acc: 0.8138\n",
      "Epoch 9/20\n",
      "18141/18141 [==============================] - 1s 33us/step - loss: 0.4100 - acc: 0.8153\n",
      "Epoch 10/20\n",
      "18141/18141 [==============================] - 0s 27us/step - loss: 0.4156 - acc: 0.8131\n",
      "Epoch 11/20\n",
      "18141/18141 [==============================] - 0s 26us/step - loss: 0.4054 - acc: 0.8180\n",
      "Epoch 12/20\n",
      "18141/18141 [==============================] - 0s 26us/step - loss: 0.4031 - acc: 0.8195\n",
      "Epoch 13/20\n",
      "18141/18141 [==============================] - 0s 27us/step - loss: 0.4073 - acc: 0.8179\n",
      "Epoch 14/20\n",
      "18141/18141 [==============================] - 1s 31us/step - loss: 0.3941 - acc: 0.8239\n",
      "Epoch 15/20\n",
      "18141/18141 [==============================] - 1s 28us/step - loss: 0.3904 - acc: 0.8261\n",
      "Epoch 16/20\n",
      "18141/18141 [==============================] - 1s 28us/step - loss: 0.3960 - acc: 0.8211\n",
      "Epoch 17/20\n",
      "18141/18141 [==============================] - 1s 32us/step - loss: 0.3969 - acc: 0.8228\n",
      "Epoch 18/20\n",
      "18141/18141 [==============================] - 1s 28us/step - loss: 0.3931 - acc: 0.8249\n",
      "Epoch 19/20\n",
      "18141/18141 [==============================] - 1s 30us/step - loss: 0.3898 - acc: 0.8248\n",
      "Epoch 20/20\n",
      "18141/18141 [==============================] - 1s 28us/step - loss: 0.3852 - acc: 0.8294\n",
      "18141/18141 [==============================] - 1s 34us/step\n",
      "\n",
      "acc: 82.47%\n"
     ]
    }
   ],
   "source": [
    "#nn train\n",
    "X_train = cleaned_train[:18141]\n",
    "X_test = cleaned_train[18141:]\n",
    "y_train = train_score.score.as_matrix(columns=None).tolist()\n",
    "X_array = np.asarray(X_train)\n",
    "Y_array = np.asarray(y_train)\n",
    "Xtest_array = np.asarray(X_test) \n",
    "import warnings\n",
    "warnings.filterwarnings(\"ignore\")   \n",
    "\n",
    "from keras.models import Sequential\n",
    "from keras.layers import Dense\n",
    "\n",
    "\n",
    "# fix random seed for reproducibility\n",
    "np.random.seed(7)\n",
    "\n",
    "# split into input (X) and output (Y) variables\n",
    "X = X_array\n",
    "Y = Y_array\n",
    "# create model\n",
    "nnmodel = Sequential()\n",
    "nnmodel.add(Dense(100, input_dim=b, activation='relu'))\n",
    "nnmodel.add(Dense(100, activation='relu'))\n",
    "nnmodel.add(Dense(100, activation='relu'))\n",
    "nnmodel.add(Dense(100, activation='relu'))\n",
    "nnmodel.add(Dense(1, activation='sigmoid'))\n",
    "\n",
    "nnmodel.compile(loss='binary_crossentropy', optimizer='adam', metrics=['accuracy'])\n",
    "\n",
    "nnmodel.fit(X, Y, epochs=20, batch_size=150)\n",
    "\n",
    "scores = nnmodel.evaluate(X, Y)\n",
    "print(\"\\n%s: %.2f%%\" % (nnmodel.metrics_names[1], scores[1]*100))\n",
    "Y_predict_nn = nnmodel.predict(Xtest_array, verbose=0)\n",
    "Y_predict_nn = np.squeeze(Y_predict_nn, axis=1)"
   ]
  },
  {
   "cell_type": "code",
   "execution_count": 18,
   "metadata": {
    "collapsed": true,
    "deletable": true,
    "editable": true
   },
   "outputs": [],
   "source": [
    "from sklearn.ensemble import VotingClassifier\n",
    "eclf1 = VotingClassifier(estimators=[('lr', modellr), ('rf', modelrf), ('gbc', modelgbc)], voting='soft')\n",
    "eclf1 = eclf1.fit(X_train, y_train)\n",
    "Y_predict_emsemble = eclf1.predict_proba(X_test)[:,1]"
   ]
  },
  {
   "cell_type": "code",
   "execution_count": 28,
   "metadata": {
    "collapsed": true,
    "deletable": true,
    "editable": true
   },
   "outputs": [],
   "source": [
    "Y_predict = []\n",
    "for i in range(len(Y_predict_emsemble)):\n",
    "    Y_predict.append(( Y_predict_emsemble[i] + Y_predict_nn[i] ) / 2.0)"
   ]
  },
  {
   "cell_type": "code",
   "execution_count": 30,
   "metadata": {
    "collapsed": true,
    "deletable": true,
    "editable": true
   },
   "outputs": [],
   "source": [
    "temp_score = load_label('submission.csv')\n",
    "submit_score  = temp_score\n",
    "submit_score['score'] = Y_predict\n",
    "submit_score.to_csv('predict_result_lr-gbc-nn.csv')"
   ]
  },
  {
   "cell_type": "code",
   "execution_count": null,
   "metadata": {
    "collapsed": true,
    "deletable": true,
    "editable": true
   },
   "outputs": [],
   "source": []
  }
 ],
 "metadata": {
  "kernelspec": {
   "display_name": "Python 2",
   "language": "python",
   "name": "python2"
  },
  "language_info": {
   "codemirror_mode": {
    "name": "ipython",
    "version": 2
   },
   "file_extension": ".py",
   "mimetype": "text/x-python",
   "name": "python",
   "nbconvert_exporter": "python",
   "pygments_lexer": "ipython2",
   "version": "2.7.13"
  }
 },
 "nbformat": 4,
 "nbformat_minor": 2
}
